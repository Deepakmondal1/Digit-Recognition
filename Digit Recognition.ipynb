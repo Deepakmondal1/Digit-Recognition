{
 "cells": [
  {
   "cell_type": "code",
   "execution_count": 1,
   "id": "b8962f1d-a489-4502-93e3-6cd13be5f139",
   "metadata": {},
   "outputs": [
    {
     "name": "stderr",
     "output_type": "stream",
     "text": [
      "C:\\Users\\Deepak Kumar Mondal\\anaconda3\\Lib\\site-packages\\paramiko\\transport.py:219: CryptographyDeprecationWarning: Blowfish has been deprecated and will be removed in a future release\n",
      "  \"class\": algorithms.Blowfish,\n"
     ]
    }
   ],
   "source": [
    "import numpy as np\n",
    "import matplotlib.pyplot as plt\n",
    "from tensorflow.keras.datasets import mnist\n",
    "from sklearn.model_selection import train_test_split\n",
    "from sklearn.decomposition import PCA\n",
    "from sklearn.svm import SVC\n",
    "from sklearn.linear_model import SGDClassifier\n",
    "from sklearn.metrics import accuracy_score, confusion_matrix\n",
    "import cv2\n",
    "from skimage.feature import hog"
   ]
  },
  {
   "cell_type": "code",
   "execution_count": 2,
   "id": "b9905fd8-52f3-4e20-ba9d-2121abbe0ee0",
   "metadata": {},
   "outputs": [],
   "source": [
    "# Load the MNIST dataset\n",
    "(X_train, y_train), (X_test, y_test) = mnist.load_data()"
   ]
  },
  {
   "cell_type": "code",
   "execution_count": 3,
   "id": "51ca2cec-4523-41e0-9edc-d2991a6a1717",
   "metadata": {},
   "outputs": [],
   "source": [
    "# Normalize the data to [0, 1] range\n",
    "X_train = X_train / 255.0\n",
    "X_test = X_test / 255.0"
   ]
  },
  {
   "cell_type": "code",
   "execution_count": 4,
   "id": "fc96cd46-a04f-4dff-a8fd-ed93d7878312",
   "metadata": {},
   "outputs": [],
   "source": [
    "# Split into train and validation sets\n",
    "X_train, X_val, y_train, y_val = train_test_split(X_train, y_train, test_size=0.2, random_state=42)"
   ]
  },
  {
   "cell_type": "code",
   "execution_count": 5,
   "id": "ea3253d7-f514-4146-9645-9bd6b96cdcd3",
   "metadata": {},
   "outputs": [
    {
     "data": {
      "image/png": "[encoded data removed]",
      "text/plain": [
       "<Figure size 1000x100 with 10 Axes>"
      ]
     },
     "metadata": {},
     "output_type": "display_data"
    }
   ],
   "source": [
    "# Display some sample images\n",
    "plt.figure(figsize=(10, 1))\n",
    "for i in range(10):\n",
    "    plt.subplot(1, 10, i + 1)\n",
    "    plt.imshow(X_train[i], cmap='gray')\n",
    "    plt.axis('off')\n",
    "plt.show()"
   ]
  },
  {
   "cell_type": "code",
   "execution_count": 6,
   "id": "4902ab50-93ec-43e1-94fb-4c6333b50eb2",
   "metadata": {},
   "outputs": [],
   "source": [
    "#Pixel intensity"
   ]
  },
  {
   "cell_type": "code",
   "execution_count": 7,
   "id": "bebb3b29-0b39-4507-bd33-fb66b15b4bd4",
   "metadata": {},
   "outputs": [],
   "source": [
    "# Flatten images to 1D arrays for pixel intensity features\n",
    "X_train_flat = X_train.reshape(-1, 28 * 28)\n",
    "X_val_flat = X_val.reshape(-1, 28 * 28)\n",
    "X_test_flat = X_test.reshape(-1, 28 * 28)\n"
   ]
  },
  {
   "cell_type": "code",
   "execution_count": 8,
   "id": "727d20f8-409d-4f53-861a-5ef32b9de664",
   "metadata": {},
   "outputs": [],
   "source": [
    "# Corner Detection"
   ]
  },
  {
   "cell_type": "code",
   "execution_count": 9,
   "id": "bbb9ad5f-9e66-40d9-a9bf-fc6b918203c7",
   "metadata": {},
   "outputs": [],
   "source": [
    "def extract_harris_corners(image):\n",
    "    gray = np.float32(image)\n",
    "    dst = cv2.cornerHarris(gray, blockSize=2, ksize=3, k=0.04)\n",
    "    corners = (dst > 0.01 * dst.max()).astype(float)\n",
    "    return corners.flatten()\n",
    "\n",
    "# Apply Harris Corner detection\n",
    "harris_features_train = np.array([extract_harris_corners(img) for img in X_train])\n",
    "harris_features_val = np.array([extract_harris_corners(img) for img in X_val])\n"
   ]
  },
  {
   "cell_type": "code",
   "execution_count": 10,
   "id": "46835b27-77ce-4876-b5aa-72857fc4a906",
   "metadata": {},
   "outputs": [],
   "source": [
    "# HOG (Histogram of Oriented Gradients)"
   ]
  },
  {
   "cell_type": "code",
   "execution_count": 11,
   "id": "506cb65a-0f69-4654-b86c-e98aba2cf052",
   "metadata": {},
   "outputs": [],
   "source": [
    "def extract_hog_features(image):\n",
    "    features = hog(image, orientations=9, pixels_per_cell=(8, 8), cells_per_block=(2, 2), visualize=False)\n",
    "    return features\n",
    "\n",
    "# Apply HOG extraction\n",
    "hog_features_train = np.array([extract_hog_features(img) for img in X_train])\n",
    "hog_features_val = np.array([extract_hog_features(img) for img in X_val])\n"
   ]
  },
  {
   "cell_type": "code",
   "execution_count": 14,
   "id": "438beccd-3661-4ee9-8940-33e5349d2828",
   "metadata": {},
   "outputs": [],
   "source": [
    "# Model training"
   ]
  },
  {
   "cell_type": "code",
   "execution_count": 15,
   "id": "ff67bb59-672c-464d-a294-79abe0c7b476",
   "metadata": {},
   "outputs": [],
   "source": [
    "# Combine features (HOG and Pixel Intensity)\n",
    "X_train_combined = np.hstack([hog_features_train, X_train_flat])\n",
    "X_val_combined = np.hstack([hog_features_val, X_val_flat])\n",
    "\n",
    "# Apply PCA to reduce dimensionality\n",
    "pca = PCA(n_components=100)\n",
    "X_train_pca = pca.fit_transform(X_train_combined)\n",
    "X_val_pca = pca.transform(X_val_combined)\n"
   ]
  },
  {
   "cell_type": "code",
   "execution_count": 16,
   "id": "cf60ad9f-5958-45e4-a2c1-9c90b2bcd427",
   "metadata": {},
   "outputs": [
    {
     "name": "stdout",
     "output_type": "stream",
     "text": [
      "SVM Validation Accuracy: 0.9510833333333333\n"
     ]
    }
   ],
   "source": [
    "# SVM Model\n",
    "svm_model = SVC(kernel='linear', C=1.0)\n",
    "svm_model.fit(X_train_pca, y_train)\n",
    "\n",
    "# Evaluate SVM\n",
    "y_val_pred_svm = svm_model.predict(X_val_pca)\n",
    "accuracy_svm = accuracy_score(y_val, y_val_pred_svm)\n",
    "print(f\"SVM Validation Accuracy: {accuracy_svm}\")\n"
   ]
  },
  {
   "cell_type": "code",
   "execution_count": 17,
   "id": "7cc35856-2873-4e2d-a719-fddf370acb52",
   "metadata": {},
   "outputs": [
    {
     "name": "stdout",
     "output_type": "stream",
     "text": [
      "SGD Validation Accuracy: 0.921\n"
     ]
    }
   ],
   "source": [
    "# SGD Classifier\n",
    "sgd_model = SGDClassifier(loss=\"hinge\", max_iter=1000, tol=1e-3)\n",
    "sgd_model.fit(X_train_pca, y_train)\n",
    "\n",
    "# Evaluate SGD\n",
    "y_val_pred_sgd = sgd_model.predict(X_val_pca)\n",
    "accuracy_sgd = accuracy_score(y_val, y_val_pred_sgd)\n",
    "print(f\"SGD Validation Accuracy: {accuracy_sgd}\")\n"
   ]
  },
  {
   "cell_type": "code",
   "execution_count": 18,
   "id": "058392bc-ba9d-404d-8a86-741695eb0a5b",
   "metadata": {},
   "outputs": [
    {
     "name": "stdout",
     "output_type": "stream",
     "text": [
      "Test Accuracy: 0.9567\n",
      "Confusion Matrix:\n",
      "[[ 968    0    3    0    0    1    3    2    2    1]\n",
      " [   1 1123    4    1    1    0    1    2    2    0]\n",
      " [   4    2  995    7    3    2    4    7    7    1]\n",
      " [   0    0   21  951    0   19    0    3   11    5]\n",
      " [   2    1    3    0  947    0    7    2    1   19]\n",
      " [   5    2    3   22    1  836    4    2   16    1]\n",
      " [  10    1    4    0    4   12  926    1    0    0]\n",
      " [   1    2   24    7    3    0    0  976    2   13]\n",
      " [   4    2    7   16    4   27    4    4  903    3]\n",
      " [   3    6    1    4   23    4    1   16    9  942]]\n"
     ]
    }
   ],
   "source": [
    "# Apply PCA to test set\n",
    "X_test_combined = np.hstack([np.array([extract_hog_features(img) for img in X_test]), X_test_flat])\n",
    "X_test_pca = pca.transform(X_test_combined)\n",
    "\n",
    "# Evaluate on the test set with the chosen model (SVM or SGD)\n",
    "y_test_pred = svm_model.predict(X_test_pca)  # or sgd_model.predict(X_test_pca) if SGD performed better\n",
    "test_accuracy = accuracy_score(y_test, y_test_pred)\n",
    "conf_matrix = confusion_matrix(y_test, y_test_pred)\n",
    "\n",
    "print(f\"Test Accuracy: {test_accuracy}\")\n",
    "print(\"Confusion Matrix:\")\n",
    "print(conf_matrix)\n"
   ]
  },
  {
   "cell_type": "code",
   "execution_count": null,
   "id": "fc4e9da1-f969-42f8-9ebb-242a2c7ab343",
   "metadata": {},
   "outputs": [],
   "source": []
  },
  {
   "cell_type": "code",
   "execution_count": null,
   "id": "ab3863c7-7f90-4a10-91e1-b04faed9b127",
   "metadata": {},
   "outputs": [],
   "source": []
  },
  {
   "cell_type": "code",
   "execution_count": null,
   "id": "61445188-b86a-4974-b19a-1b3dbef04c87",
   "metadata": {},
   "outputs": [],
   "source": []
  },
  {
   "cell_type": "code",
   "execution_count": null,
   "id": "3f36d75d-1389-4b7f-b508-93c3e0c39663",
   "metadata": {},
   "outputs": [],
   "source": []
  },
  {
   "cell_type": "code",
   "execution_count": null,
   "id": "a2eb24ed-f477-46b0-9e04-4257ba29b433",
   "metadata": {},
   "outputs": [],
   "source": []
  },
  {
   "cell_type": "code",
   "execution_count": null,
   "id": "34d33531-b261-48bf-a75e-0d2f0f44bd32",
   "metadata": {},
   "outputs": [],
   "source": []
  },
  {
   "cell_type": "code",
   "execution_count": null,
   "id": "e276405a-1776-40ce-9657-196a10d49332",
   "metadata": {},
   "outputs": [],
   "source": []
  },
  {
   "cell_type": "code",
   "execution_count": null,
   "id": "26b025a1-d4b8-4613-ae2c-67e4a623efc6",
   "metadata": {},
   "outputs": [],
   "source": []
  },
  {
   "cell_type": "code",
   "execution_count": null,
   "id": "a90a3af1-6e21-44ba-8b39-3ba142197e50",
   "metadata": {},
   "outputs": [],
   "source": []
  },
  {
   "cell_type": "code",
   "execution_count": null,
   "id": "6e210226-232b-4e4c-ac36-63636e3e88bb",
   "metadata": {},
   "outputs": [],
   "source": []
  }
 ],
 "metadata": {
  "kernelspec": {
   "display_name": "Python 3 (ipykernel)",
   "language": "python",
   "name": "python3"
  },
  "language_info": {
   "codemirror_mode": {
    "name": "ipython",
    "version": 3
   },
   "file_extension": ".py",
   "mimetype": "text/x-python",
   "name": "python",
   "nbconvert_exporter": "python",
   "pygments_lexer": "ipython3",
   "version": "3.11.7"
  }
 },
 "nbformat": 4,
 "nbformat_minor": 5
}
